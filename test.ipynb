{
 "metadata": {
  "language_info": {
   "codemirror_mode": {
    "name": "ipython",
    "version": 3
   },
   "file_extension": ".py",
   "mimetype": "text/x-python",
   "name": "python",
   "nbconvert_exporter": "python",
   "pygments_lexer": "ipython3",
   "version": "3.7.4-final"
  },
  "orig_nbformat": 2,
  "kernelspec": {
   "name": "python_defaultSpec_1599640025236",
   "display_name": "Python 3.7.4 64-bit ('DATATHON': pipenv)"
  }
 },
 "nbformat": 4,
 "nbformat_minor": 2,
 "cells": [
  {
   "cell_type": "code",
   "execution_count": 1,
   "metadata": {},
   "outputs": [],
   "source": [
    "import json\n",
    "import random\n",
    "import pandas as pd\n",
    "import numpy as np\n",
    "import datetime\n",
    "import time\n",
    "import xlrd"
   ]
  },
  {
   "cell_type": "code",
   "execution_count": 2,
   "metadata": {
    "tags": []
   },
   "outputs": [
    {
     "output_type": "stream",
     "name": "stdout",
     "text": "channel  media                     title   author     datetime_publish  \\\n0    news   經濟日報  資策會估台灣半導體有望年增1.7% 優於全球表現      張建中  2020-06-01 13:00:00   \n1    news   經濟日報        對流雲系發展旺盛  15縣市大雨特報      余曉涵  2020-06-01 13:00:00   \n2    news  公視新聞網      彰化一度疫情重災 結合科技迅速查到感染源  賴淑敏,蔣龍祥  2020-06-01 13:00:00   \n3    news  公視新聞網         推林下經濟 台東林管處輔導部落養蜂      章明哲  2020-06-01 13:00:00   \n4    news  公視新聞網      中市違停無障礙.親子車格 檢舉逾600件  黃千容,彭煥群  2020-06-01 13:00:00   \n\n                                              url  \n0  https://money.udn.com/money/story/5612/4605129  \n1  https://money.udn.com/money/story/5621/4605130  \n2          https://news.pts.org.tw/article/481090  \n3          https://news.pts.org.tw/article/481093  \n4          https://news.pts.org.tw/article/481091  \n"
    }
   ],
   "source": [
    "df = pd.read_json('data/news_sampleData.json')\n",
    "#df.to_csv('data/news_sampleData.csv', mode='a',index=0, header=0,encoding='utf-8-sig')\n",
    "print(df.head(5))"
   ]
  },
  {
   "cell_type": "code",
   "execution_count": 11,
   "metadata": {
    "tags": []
   },
   "outputs": [
    {
     "output_type": "stream",
     "name": "stdout",
     "text": "inv_id item_no product_name unit_price quantity amonut  \\\n0  發票流水號    品項順序         品項名稱       品項單價       數量   品項小計   \n1  23555       1     草莓奶霜雙餡夾心         30        1     30   \n2  23555       2   藍山咖啡CAN240         23        1     23   \n3  23555       3      LCxKT點數          0        1      0   \n4  23147       1     孔雀香酥脆香魚大         20        1     20   \n\n          seller_address                           inv_time  \\\n0                   賣方地址                             發票開立時間   \n1  台北市中山區松江路183號183-1號1樓  2018-01-25 15:34:43.000000 +08:00   \n2  台北市中山區松江路183號183-1號1樓  2018-01-25 15:34:43.000000 +08:00   \n3  台北市中山區松江路183號183-1號1樓  2018-01-25 15:34:43.000000 +08:00   \n4  台北市中山區松江路183號183-1號1樓  2018-02-01 14:54:49.000000 +08:00   \n\n                          login_time      gender age  \n0                             發票登入時間  性別 (0女 1男)  年齡  \n1  2019-03-20 12:39:02.920623 +08:00           1  21  \n2  2019-03-20 12:39:02.920623 +08:00           1  21  \n3  2019-03-20 12:39:02.920623 +08:00           1  21  \n4  2019-03-16 09:36:56.621078 +08:00           1  21  \n"
    }
   ],
   "source": [
    "df1 = pd.read_excel('data/發票怪獸sample data0805.xlsx')\n",
    "#df.to_csv('data/news_sampleData.csv', mode='a',index=0, header=0,encoding='utf-8-sig')\n",
    "print(df1.head(5))"
   ]
  },
  {
   "cell_type": "code",
   "execution_count": null,
   "metadata": {},
   "outputs": [],
   "source": []
  }
 ]
}