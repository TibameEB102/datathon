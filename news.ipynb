{
 "metadata": {
  "language_info": {
   "codemirror_mode": {
    "name": "ipython",
    "version": 3
   },
   "file_extension": ".py",
   "mimetype": "text/x-python",
   "name": "python",
   "nbconvert_exporter": "python",
   "pygments_lexer": "ipython3",
   "version": "3.7.4-final"
  },
  "orig_nbformat": 2,
  "kernelspec": {
   "name": "python_defaultSpec_1599570054113",
   "display_name": "Python 3.7.4 64-bit ('DATATHON': pipenv)"
  }
 },
 "nbformat": 4,
 "nbformat_minor": 2,
 "cells": [
  {
   "cell_type": "code",
   "execution_count": 1,
   "metadata": {},
   "outputs": [],
   "source": [
    "import json\n",
    "import requests\n",
    "import random\n",
    "import pandas as pd\n",
    "from bs4 import BeautifulSoup\n",
    "import numpy as np\n",
    "import datetime\n",
    "import time"
   ]
  },
  {
   "cell_type": "code",
   "execution_count": 3,
   "metadata": {
    "tags": []
   },
   "outputs": [
    {
     "output_type": "stream",
     "name": "stdout",
     "text": "channel  media                     title   author     datetime_publish  \\\n0    news   經濟日報  資策會估台灣半導體有望年增1.7% 優於全球表現      張建中  2020-06-01 13:00:00   \n1    news   經濟日報        對流雲系發展旺盛  15縣市大雨特報      余曉涵  2020-06-01 13:00:00   \n2    news  公視新聞網      彰化一度疫情重災 結合科技迅速查到感染源  賴淑敏,蔣龍祥  2020-06-01 13:00:00   \n3    news  公視新聞網         推林下經濟 台東林管處輔導部落養蜂      章明哲  2020-06-01 13:00:00   \n4    news  公視新聞網      中市違停無障礙.親子車格 檢舉逾600件  黃千容,彭煥群  2020-06-01 13:00:00   \n\n                                              url  \n0  https://money.udn.com/money/story/5612/4605129  \n1  https://money.udn.com/money/story/5621/4605130  \n2          https://news.pts.org.tw/article/481090  \n3          https://news.pts.org.tw/article/481093  \n4          https://news.pts.org.tw/article/481091  \n"
    }
   ],
   "source": [
    "df = pd.read_json('news_sampleData.json')\n",
    "#df.to_csv('data/news_sampleData.csv', mode='a',index=0, header=0,encoding='utf-8-sig')\n",
    "print(df.head(5))"
   ]
  },
  {
   "cell_type": "code",
   "execution_count": 4,
   "metadata": {
    "tags": []
   },
   "outputs": [
    {
     "output_type": "stream",
     "name": "stdout",
     "text": "<class 'pandas.core.frame.DataFrame'>\nRangeIndex: 500 entries, 0 to 499\nData columns (total 6 columns):\n #   Column            Non-Null Count  Dtype \n---  ------            --------------  ----- \n 0   channel           500 non-null    object\n 1   media             500 non-null    object\n 2   title             500 non-null    object\n 3   author            500 non-null    object\n 4   datetime_publish  500 non-null    object\n 5   url               500 non-null    object\ndtypes: object(6)\nmemory usage: 23.6+ KB\n"
    }
   ],
   "source": [
    "df.info()"
   ]
  },
  {
   "cell_type": "code",
   "execution_count": 8,
   "metadata": {},
   "outputs": [
    {
     "output_type": "execute_result",
     "data": {
      "text/plain": "channel\ndcard        56\nfacebook     69\nmobile01     10\nnews        247\npixnet        1\nptt         117\ndtype: int64"
     },
     "metadata": {},
     "execution_count": 8
    }
   ],
   "source": [
    "df_g = df.groupby('channel')\n",
    "df_g.size()"
   ]
  },
  {
   "cell_type": "code",
   "execution_count": 23,
   "metadata": {},
   "outputs": [
    {
     "output_type": "execute_result",
     "data": {
      "text/plain": "157"
     },
     "metadata": {},
     "execution_count": 23
    }
   ],
   "source": []
  },
  {
   "cell_type": "code",
   "execution_count": null,
   "metadata": {},
   "outputs": [],
   "source": []
  }
 ]
}